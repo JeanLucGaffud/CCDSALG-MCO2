{
 "cells": [
  {
   "cell_type": "code",
   "execution_count": 15,
   "metadata": {},
   "outputs": [],
   "source": [
    "import random\n",
    "import string\n",
    "\n",
    "def generate_strings(filename, n):\n",
    "    valid_characters = string.ascii_lowercase + string.ascii_uppercase\n",
    "    strings = set()\n",
    "    \n",
    "    while len(strings) < n:\n",
    "        new_string = \"\".join(random.choices(valid_characters, k=random.randint(1, 15)))\n",
    "        strings.add(new_string)\n",
    "    \n",
    "    with open(filename, 'w') as f:\n",
    "        f.write(f\"{n}\\n\")\n",
    "        for s in strings:\n",
    "            f.write(f\"{s}\\n\")\n",
    "\n",
    "# Example usage\n",
    "generate_strings('input5.txt', 16384)"
   ]
  },
  {
   "cell_type": "code",
   "execution_count": 8,
   "metadata": {},
   "outputs": [
    {
     "name": "stdout",
     "output_type": "stream",
     "text": [
      "Number of duplicate strings: 0\n"
     ]
    }
   ],
   "source": [
    "def count_duplicates(filename):\n",
    "    with open(filename, 'r') as f:\n",
    "        lines = f.readlines()\n",
    "    \n",
    "    n = int(lines[0].strip())\n",
    "    strings = [line.strip() for line in lines[1:]]\n",
    "    \n",
    "    duplicates = {}\n",
    "    for s in strings:\n",
    "        if s in duplicates:\n",
    "            duplicates[s] += 1\n",
    "        else:\n",
    "            duplicates[s] = 1\n",
    "    \n",
    "    duplicate_strings = {s: count for s, count in duplicates.items() if count > 1}\n",
    "    \n",
    "    for s, count in duplicate_strings.items():\n",
    "        print(f\"String: {s}, Count: {count}\")\n",
    "    return len(duplicate_strings)\n",
    "\n",
    "# Example usage\n",
    "duplicate_count = count_duplicates('input5.txt')\n",
    "print(f\"Number of duplicate strings: {duplicate_count}\")"
   ]
  },
  {
   "cell_type": "code",
   "execution_count": 20,
   "metadata": {},
   "outputs": [
    {
     "name": "stdout",
     "output_type": "stream",
     "text": [
      "Maximum string length excluding null byte: 15\n"
     ]
    }
   ],
   "source": [
    "def max_string_length(filename):\n",
    "    with open(filename, 'r') as f:\n",
    "        lines = f.readlines()\n",
    "    \n",
    "    max_length = 0\n",
    "    for line in lines[1:]:  # Skip the first line which contains the number of strings\n",
    "        line = line.strip().replace('\\x00', '')  # Remove null bytes\n",
    "        max_length = max(max_length, len(line))\n",
    "    \n",
    "    return max_length\n",
    "\n",
    "# Example usage\n",
    "max_length = max_string_length('input1.txt')\n",
    "print(f\"Maximum string length excluding null byte: {max_length}\")"
   ]
  }
 ],
 "metadata": {
  "kernelspec": {
   "display_name": "Python 3",
   "language": "python",
   "name": "python3"
  },
  "language_info": {
   "codemirror_mode": {
    "name": "ipython",
    "version": 3
   },
   "file_extension": ".py",
   "mimetype": "text/x-python",
   "name": "python",
   "nbconvert_exporter": "python",
   "pygments_lexer": "ipython3",
   "version": "3.12.0"
  }
 },
 "nbformat": 4,
 "nbformat_minor": 2
}
