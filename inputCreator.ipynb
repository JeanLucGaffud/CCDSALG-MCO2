{
 "cells": [
  {
   "cell_type": "code",
   "execution_count": 10,
   "metadata": {},
   "outputs": [],
   "source": [
    "import random\n",
    "import string\n",
    "\n",
    "def generate_strings(filename, n):\n",
    "    strings = [\"\".join(random.choices(string.ascii_letters + string.digits, k=random.randint(1, 10))) for _ in range(n)]\n",
    "    with open(filename, 'w') as f:\n",
    "        f.write(f\"{n}\\n\")\n",
    "        for s in strings:\n",
    "            f.write(f\"{s}\\n\")\n",
    "\n",
    "# Example usage\n",
    "generate_strings('input5.txt', 16384)"
   ]
  }
 ],
 "metadata": {
  "kernelspec": {
   "display_name": "Python 3",
   "language": "python",
   "name": "python3"
  },
  "language_info": {
   "codemirror_mode": {
    "name": "ipython",
    "version": 3
   },
   "file_extension": ".py",
   "mimetype": "text/x-python",
   "name": "python",
   "nbconvert_exporter": "python",
   "pygments_lexer": "ipython3",
   "version": "3.12.0"
  }
 },
 "nbformat": 4,
 "nbformat_minor": 2
}
