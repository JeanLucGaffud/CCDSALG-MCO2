{
 "cells": [
  {
   "cell_type": "code",
   "execution_count": 3,
   "metadata": {},
   "outputs": [],
   "source": [
    "import random\n",
    "import string\n",
    "\n",
    "def generate_strings(filename, n):\n",
    "    valid_characters = string.ascii_lowercase\n",
    "    strings = set()\n",
    "    \n",
    "    while len(strings) < n:\n",
    "        new_string = \"\".join(random.choices(valid_characters, k=random.randint(1, 10)))\n",
    "        strings.add(new_string)\n",
    "    \n",
    "    with open(filename, 'w') as f:\n",
    "        f.write(f\"{n}\\n\")\n",
    "        for s in strings:\n",
    "            f.write(f\"{s}\\n\")\n",
    "\n",
    "# Example usage\n",
    "generate_strings('input5.txt', 16384)"
   ]
  },
  {
   "cell_type": "code",
   "execution_count": 4,
   "metadata": {},
   "outputs": [
    {
     "name": "stdout",
     "output_type": "stream",
     "text": [
      "Number of duplicate strings: 0\n"
     ]
    }
   ],
   "source": [
    "def count_duplicates(filename):\n",
    "    with open(filename, 'r') as f:\n",
    "        lines = f.readlines()\n",
    "    \n",
    "    n = int(lines[0].strip())\n",
    "    strings = [line.strip() for line in lines[1:]]\n",
    "    \n",
    "    duplicates = {}\n",
    "    for s in strings:\n",
    "        if s in duplicates:\n",
    "            duplicates[s] += 1\n",
    "        else:\n",
    "            duplicates[s] = 1\n",
    "    \n",
    "    duplicate_strings = {s: count for s, count in duplicates.items() if count > 1}\n",
    "    \n",
    "    for s, count in duplicate_strings.items():\n",
    "        print(f\"String: {s}, Count: {count}\")\n",
    "    return len(duplicate_strings)\n",
    "\n",
    "# Example usage\n",
    "duplicate_count = count_duplicates('input5.txt')\n",
    "print(f\"Number of duplicate strings: {duplicate_count}\")"
   ]
  }
 ],
 "metadata": {
  "kernelspec": {
   "display_name": "Python 3",
   "language": "python",
   "name": "python3"
  },
  "language_info": {
   "codemirror_mode": {
    "name": "ipython",
    "version": 3
   },
   "file_extension": ".py",
   "mimetype": "text/x-python",
   "name": "python",
   "nbconvert_exporter": "python",
   "pygments_lexer": "ipython3",
   "version": "3.12.0"
  }
 },
 "nbformat": 4,
 "nbformat_minor": 2
}
